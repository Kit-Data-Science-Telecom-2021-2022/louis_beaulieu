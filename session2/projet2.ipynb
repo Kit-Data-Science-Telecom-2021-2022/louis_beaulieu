{
 "cells": [
  {
   "cell_type": "markdown",
   "metadata": {},
   "source": [
    "\n",
    "# Projet 2"
   ]
  },
  {
   "cell_type": "code",
   "execution_count": 7,
   "metadata": {},
   "outputs": [],
   "source": [
    "%load_ext pycodestyle_magic"
   ]
  },
  {
   "cell_type": "code",
   "execution_count": 113,
   "metadata": {},
   "outputs": [],
   "source": [
    "%flake8_off"
   ]
  },
  {
   "cell_type": "code",
   "execution_count": 9,
   "metadata": {},
   "outputs": [],
   "source": [
    "# import des modules usuels\n",
    "import numpy as np\n",
    "import pandas as pd\n",
    "\n",
    "# options d'affichage\n",
    "pd.set_option(\"display.min_rows\", 16)"
   ]
  },
  {
   "cell_type": "code",
   "execution_count": 14,
   "metadata": {
    "tags": []
   },
   "outputs": [
    {
     "data": {
      "text/html": [
       "<div>\n",
       "<style scoped>\n",
       "    .dataframe tbody tr th:only-of-type {\n",
       "        vertical-align: middle;\n",
       "    }\n",
       "\n",
       "    .dataframe tbody tr th {\n",
       "        vertical-align: top;\n",
       "    }\n",
       "\n",
       "    .dataframe thead th {\n",
       "        text-align: right;\n",
       "    }\n",
       "</style>\n",
       "<table border=\"1\" class=\"dataframe\">\n",
       "  <thead>\n",
       "    <tr style=\"text-align: right;\">\n",
       "      <th></th>\n",
       "      <th>Code Postal</th>\n",
       "      <th>Commune</th>\n",
       "      <th>Département</th>\n",
       "      <th>Région</th>\n",
       "      <th>Statut</th>\n",
       "      <th>Altitude Moyenne</th>\n",
       "      <th>Superficie</th>\n",
       "      <th>Population</th>\n",
       "      <th>geo_point_2d</th>\n",
       "      <th>geo_shape</th>\n",
       "      <th>Latitude</th>\n",
       "      <th>Longitude</th>\n",
       "    </tr>\n",
       "    <tr>\n",
       "      <th>Code INSEE</th>\n",
       "      <th></th>\n",
       "      <th></th>\n",
       "      <th></th>\n",
       "      <th></th>\n",
       "      <th></th>\n",
       "      <th></th>\n",
       "      <th></th>\n",
       "      <th></th>\n",
       "      <th></th>\n",
       "      <th></th>\n",
       "      <th></th>\n",
       "      <th></th>\n",
       "    </tr>\n",
       "  </thead>\n",
       "  <tbody>\n",
       "    <tr>\n",
       "      <th>01001</th>\n",
       "      <td>01400</td>\n",
       "      <td>L'ABERGEMENT-CLEMENCIAT</td>\n",
       "      <td>AIN</td>\n",
       "      <td>RHONE-ALPES</td>\n",
       "      <td>Commune simple</td>\n",
       "      <td>242.0</td>\n",
       "      <td>1565.0</td>\n",
       "      <td>0.8</td>\n",
       "      <td>46.1534255214, 4.92611354223</td>\n",
       "      <td>{\"type\": \"Polygon\", \"coordinates\": [[[4.926273...</td>\n",
       "      <td>46.153426</td>\n",
       "      <td>4.926114</td>\n",
       "    </tr>\n",
       "    <tr>\n",
       "      <th>01002</th>\n",
       "      <td>01640</td>\n",
       "      <td>L'ABERGEMENT-DE-VAREY</td>\n",
       "      <td>AIN</td>\n",
       "      <td>RHONE-ALPES</td>\n",
       "      <td>Commune simple</td>\n",
       "      <td>483.0</td>\n",
       "      <td>912.0</td>\n",
       "      <td>0.2</td>\n",
       "      <td>46.0091878776, 5.42801696363</td>\n",
       "      <td>{\"type\": \"Polygon\", \"coordinates\": [[[5.430089...</td>\n",
       "      <td>46.009188</td>\n",
       "      <td>5.428017</td>\n",
       "    </tr>\n",
       "    <tr>\n",
       "      <th>01004</th>\n",
       "      <td>01500</td>\n",
       "      <td>AMBERIEU-EN-BUGEY</td>\n",
       "      <td>AIN</td>\n",
       "      <td>RHONE-ALPES</td>\n",
       "      <td>Chef-lieu canton</td>\n",
       "      <td>379.0</td>\n",
       "      <td>2448.0</td>\n",
       "      <td>13.4</td>\n",
       "      <td>45.9608475114, 5.3729257777</td>\n",
       "      <td>{\"type\": \"Polygon\", \"coordinates\": [[[5.386190...</td>\n",
       "      <td>45.960848</td>\n",
       "      <td>5.372926</td>\n",
       "    </tr>\n",
       "    <tr>\n",
       "      <th>01005</th>\n",
       "      <td>01330</td>\n",
       "      <td>AMBERIEUX-EN-DOMBES</td>\n",
       "      <td>AIN</td>\n",
       "      <td>RHONE-ALPES</td>\n",
       "      <td>Commune simple</td>\n",
       "      <td>290.0</td>\n",
       "      <td>1605.0</td>\n",
       "      <td>1.6</td>\n",
       "      <td>45.9961799872, 4.91227250796</td>\n",
       "      <td>{\"type\": \"Polygon\", \"coordinates\": [[[4.895580...</td>\n",
       "      <td>45.996180</td>\n",
       "      <td>4.912273</td>\n",
       "    </tr>\n",
       "    <tr>\n",
       "      <th>01006</th>\n",
       "      <td>01300</td>\n",
       "      <td>AMBLEON</td>\n",
       "      <td>AIN</td>\n",
       "      <td>RHONE-ALPES</td>\n",
       "      <td>Commune simple</td>\n",
       "      <td>589.0</td>\n",
       "      <td>602.0</td>\n",
       "      <td>0.1</td>\n",
       "      <td>45.7494989044, 5.59432017366</td>\n",
       "      <td>{\"type\": \"Polygon\", \"coordinates\": [[[5.614854...</td>\n",
       "      <td>45.749499</td>\n",
       "      <td>5.594320</td>\n",
       "    </tr>\n",
       "  </tbody>\n",
       "</table>\n",
       "</div>"
      ],
      "text/plain": [
       "           Code Postal                  Commune Département       Région  \\\n",
       "Code INSEE                                                                 \n",
       "01001            01400  L'ABERGEMENT-CLEMENCIAT         AIN  RHONE-ALPES   \n",
       "01002            01640    L'ABERGEMENT-DE-VAREY         AIN  RHONE-ALPES   \n",
       "01004            01500        AMBERIEU-EN-BUGEY         AIN  RHONE-ALPES   \n",
       "01005            01330      AMBERIEUX-EN-DOMBES         AIN  RHONE-ALPES   \n",
       "01006            01300                  AMBLEON         AIN  RHONE-ALPES   \n",
       "\n",
       "                      Statut  Altitude Moyenne  Superficie  Population  \\\n",
       "Code INSEE                                                               \n",
       "01001         Commune simple             242.0      1565.0         0.8   \n",
       "01002         Commune simple             483.0       912.0         0.2   \n",
       "01004       Chef-lieu canton             379.0      2448.0        13.4   \n",
       "01005         Commune simple             290.0      1605.0         1.6   \n",
       "01006         Commune simple             589.0       602.0         0.1   \n",
       "\n",
       "                            geo_point_2d  \\\n",
       "Code INSEE                                 \n",
       "01001       46.1534255214, 4.92611354223   \n",
       "01002       46.0091878776, 5.42801696363   \n",
       "01004        45.9608475114, 5.3729257777   \n",
       "01005       45.9961799872, 4.91227250796   \n",
       "01006       45.7494989044, 5.59432017366   \n",
       "\n",
       "                                                    geo_shape   Latitude  \\\n",
       "Code INSEE                                                                 \n",
       "01001       {\"type\": \"Polygon\", \"coordinates\": [[[4.926273...  46.153426   \n",
       "01002       {\"type\": \"Polygon\", \"coordinates\": [[[5.430089...  46.009188   \n",
       "01004       {\"type\": \"Polygon\", \"coordinates\": [[[5.386190...  45.960848   \n",
       "01005       {\"type\": \"Polygon\", \"coordinates\": [[[4.895580...  45.996180   \n",
       "01006       {\"type\": \"Polygon\", \"coordinates\": [[[5.614854...  45.749499   \n",
       "\n",
       "            Longitude  \n",
       "Code INSEE             \n",
       "01001        4.926114  \n",
       "01002        5.428017  \n",
       "01004        5.372926  \n",
       "01005        4.912273  \n",
       "01006        5.594320  "
      ]
     },
     "execution_count": 14,
     "metadata": {},
     "output_type": "execute_result"
    },
    {
     "name": "stderr",
     "output_type": "stream",
     "text": [
      "7:80: E501 line too long (92 > 79 characters)\n"
     ]
    }
   ],
   "source": [
    "# chargement et traitement des données\n",
    "geo = pd.read_csv(\"correspondance-code-insee-code-postal.csv\",\n",
    "                  sep=';',\n",
    "                  usecols=range(11),\n",
    "                  index_col=\"Code INSEE\")\n",
    "geo = geo.sort_index()\n",
    "geo[['Latitude', 'Longitude']] = geo[\"geo_point_2d\"].str.extract(\"(.*), (.*)\").astype(float)\n",
    "geo.head()"
   ]
  },
  {
   "cell_type": "markdown",
   "metadata": {
    "tags": []
   },
   "source": [
    "**Projet maison n° 1**\n",
    "\n",
    "- Ajoutez une colonne 'CP Ville' avec le Code postal + un espace + et le nom de la Ville.\n",
    "- Ecrivez une fonction qui détermine la commune la plus proche d'un point à partir de sa latitude et sa longitude.\n",
    "- Ajoutez une fonction de conversion pour pouvoir utiliser la première fonction avec un GPS (degrés, minutes, secondes)."
   ]
  },
  {
   "cell_type": "code",
   "execution_count": 15,
   "metadata": {},
   "outputs": [],
   "source": [
    "geo['CP Ville'] = geo['Code Postal'] + \" \" + geo['Commune']"
   ]
  },
  {
   "cell_type": "code",
   "execution_count": 32,
   "metadata": {},
   "outputs": [],
   "source": [
    "import math\n",
    "\n",
    "\n",
    "def deg2rad(dd):\n",
    "    \"\"\"Convertit un angle \"degrés décimaux\" en \"radians\"\n",
    "    \"\"\"\n",
    "    return dd/180*pi\n",
    "\n",
    "\n",
    "# fonction recherche de ville\n",
    "def ville(lat, long):\n",
    "\n",
    "    # Rayon de la terre en mètres (sphère IAG-GRS80)\n",
    "    RT = 6378137\n",
    "\n",
    "    liste = []\n",
    "    for i in range(geo.shape[0]):\n",
    "        # angle en radians entre les 2 points\n",
    "        S = acos(sin(lat)*sin(geo['Latitude'].iloc[i])\n",
    "                 + cos(lat)*cos(geo['Latitude'].iloc[i])\n",
    "                 * cos(abs(geo['Longitude'].iloc[i]-long)))\n",
    "        liste.append(S*RT)  # distance sur un arc de grand cercle\n",
    "    return geo['CP Ville'].iloc[liste.index(min(liste))]"
   ]
  },
  {
   "cell_type": "code",
   "execution_count": 34,
   "metadata": {},
   "outputs": [
    {
     "data": {
      "text/plain": [
       "'01500 AMBERIEU-EN-BUGEY'"
      ]
     },
     "execution_count": 34,
     "metadata": {},
     "output_type": "execute_result"
    }
   ],
   "source": [
    "ville(45.960848, 5.372926)"
   ]
  },
  {
   "cell_type": "code",
   "execution_count": 35,
   "metadata": {},
   "outputs": [],
   "source": [
    "# conversion degrés, minutes, secondes => décimal\n",
    "def dms2dec(deg, mn, sec):\n",
    "    return deg + mn / 60 + sec / 3600"
   ]
  },
  {
   "cell_type": "code",
   "execution_count": 39,
   "metadata": {},
   "outputs": [
    {
     "data": {
      "text/plain": [
       "'71330 BOSJEAN'"
      ]
     },
     "execution_count": 39,
     "metadata": {},
     "output_type": "execute_result"
    }
   ],
   "source": [
    "# on applique la fonction à une coordonnée tirée au hasard\n",
    "# init du random\n",
    "np.random.seed(0)\n",
    "\n",
    "a, b = 41.5, 51.1  # latitude min et max de la France métropolitaine\n",
    "lat = (b - a) * np.random.random() + a\n",
    "a, b = -5.1, 9.5  # longitude min et max de la France métropolitaine\n",
    "long = (b - a) * np.random.random() + a\n",
    "\n",
    "ville(lat, long)"
   ]
  },
  {
   "cell_type": "code",
   "execution_count": 40,
   "metadata": {},
   "outputs": [
    {
     "data": {
      "text/plain": [
       "'91120 PALAISEAU'"
      ]
     },
     "execution_count": 40,
     "metadata": {},
     "output_type": "execute_result"
    }
   ],
   "source": [
    "# à partir de coordonnées GPS précises\n",
    "ville(dms2dec(48, 42, 52), dms2dec(2, 14, 45))"
   ]
  },
  {
   "cell_type": "markdown",
   "metadata": {},
   "source": [
    "**Projet maison n° 2**\n",
    "\n",
    "La colonne \"geo_shape\" comporte des chaines de catactères au format JSON. Elles représentent les formes géométriques des communes qui sont soit des polygones soit composées de plusieurs polygones.\n",
    "\n",
    "- Utiliser la librairie Python json pour parser la colonne \"geo_shape\".\n",
    "- Donner le décompte des valeurs accédées avec la clé \"type\".\n",
    "- Donner le décompte des longueurs des listes accédées avec la clé \"coordinates\".\n",
    "- Quelle commune est la plus complexe géométriquement ?\n",
    "- Quelle commune est la seconde la plus complexe géométriquement ?\n",
    "- Quelles sont les villes qui sont de type \"Polygon\" mais dont la longueur des listes accédées avec la clé \"coordinates\" vaut 2 ?\n",
    "- Pour ces villes vérifier que le premier polygone contient bien le second (enclave). NB : installer la librairie shapely, utiliser la classe Polygon de shapely.geometry. Sur Windows shapely peut nécessiter d'installer la dll \"geos_c.dll\" dans le répertoire \"Library/bin\" de votre environnement Python."
   ]
  },
  {
   "cell_type": "code",
   "execution_count": 48,
   "metadata": {},
   "outputs": [
    {
     "data": {
      "text/plain": [
       "{'type': 'Polygon',\n",
       " 'coordinates': [[[4.92627342692396, 46.1200517234555],\n",
       "   [4.92199538031264, 46.12069170563269],\n",
       "   [4.921996260482057, 46.12663667307488],\n",
       "   [4.90936269187648, 46.129164756530656],\n",
       "   [4.916016986429157, 46.14461766984426],\n",
       "   [4.903080786126749, 46.157977074275074],\n",
       "   [4.904571300671208, 46.16096059498421],\n",
       "   [4.910603091203733, 46.180432597608316],\n",
       "   [4.914119126867876, 46.18271538441311],\n",
       "   [4.932895432675545, 46.18304616431434],\n",
       "   [4.938729478686701, 46.17383114520867],\n",
       "   [4.933038591703602, 46.16429901579509],\n",
       "   [4.958286230120842, 46.153246666893935],\n",
       "   [4.943330383388636, 46.145964148557894],\n",
       "   [4.939154593056283, 46.12938048470421],\n",
       "   [4.931056072485923, 46.12087123131487],\n",
       "   [4.92627342692396, 46.1200517234555]]]}"
      ]
     },
     "execution_count": 48,
     "metadata": {},
     "output_type": "execute_result"
    }
   ],
   "source": [
    "import json\n",
    "y = geo.loc[\"01001\", \"geo_shape\"]\n",
    "d = json.loads(y)\n",
    "d"
   ]
  },
  {
   "cell_type": "code",
   "execution_count": 68,
   "metadata": {},
   "outputs": [
    {
     "data": {
      "text/plain": [
       "'Polygon'"
      ]
     },
     "execution_count": 68,
     "metadata": {},
     "output_type": "execute_result"
    }
   ],
   "source": [
    "d['type']"
   ]
  },
  {
   "cell_type": "code",
   "execution_count": 80,
   "metadata": {},
   "outputs": [
    {
     "name": "stdout",
     "output_type": "stream",
     "text": [
      "1\n",
      "17\n",
      "2\n"
     ]
    }
   ],
   "source": [
    "print(len(d['coordinates']))\n",
    "print(len(d['coordinates'][0]))\n",
    "print(len(d['coordinates'][0][0]))"
   ]
  },
  {
   "cell_type": "code",
   "execution_count": 96,
   "metadata": {},
   "outputs": [
    {
     "name": "stdout",
     "output_type": "stream",
     "text": [
      "La commune la plus complexe géométriquement est : 97370 MARIPASOULA\n",
      "La taille de son polygone est : 486\n"
     ]
    }
   ],
   "source": [
    "# Méthode 1 : liste\n",
    "\n",
    "liste = []\n",
    "for i in range(geo.shape[0]):\n",
    "    d = json.loads(geo[\"geo_shape\"].iloc[i])\n",
    "    liste.append(len(d['coordinates'][0]))\n",
    "\n",
    "print(\"La commune la plus complexe géométriquement est : \" +\n",
    "      geo['CP Ville'].iloc[liste.index(max(liste))])\n",
    "print(\"La taille de son polygone est : \" +\n",
    "      str(len(json.loads(geo[\"geo_shape\"]\n",
    "                         .iloc[liste.index(max(liste))])['coordinates'][0])))"
   ]
  },
  {
   "cell_type": "code",
   "execution_count": 117,
   "metadata": {},
   "outputs": [
    {
     "name": "stdout",
     "output_type": "stream",
     "text": [
      "La commune la plus complexe géométriquement est : 97370 MARIPASOULA\n",
      "La taille de son polygone est : 486\n"
     ]
    }
   ],
   "source": [
    "# Méthode 2 : dictionnaire\n",
    "\n",
    "dict_pol = {}\n",
    "for i in range(geo.shape[0]):\n",
    "    dict_pol[geo['CP Ville'].iloc[i]] = len(json.loads(geo[\"geo_shape\"].iloc[i])['coordinates'][0])\n",
    "max_key = max(dict_pol, key=dict_pol.get)\n",
    "\n",
    "print(\"La commune la plus complexe géométriquement est : \" +\n",
    "      max_key)\n",
    "print(\"La taille de son polygone est : \" +\n",
    "      str(dict_pol[max_key]))"
   ]
  },
  {
   "cell_type": "code",
   "execution_count": 120,
   "metadata": {},
   "outputs": [
    {
     "name": "stdout",
     "output_type": "stream",
     "text": [
      "La 2ème commune la plus complexe géométriquement est : 97390 REGINA\n",
      "La taille de son polygone est : 392\n"
     ]
    }
   ],
   "source": [
    "# 2ème commune la plus complexe géométriquement\n",
    "\n",
    "dict_pol_sup = dict_pol.copy()\n",
    "dict_pol_sup.pop(max_key)\n",
    "\n",
    "max_key_2 = max(dict_pol_sup, key=dict_pol_sup.get)\n",
    "\n",
    "print(\"La 2ème commune la plus complexe géométriquement est : \" +\n",
    "      max_key_2)\n",
    "print(\"La taille de son polygone est : \" +\n",
    "      str(dict_pol_sup[max_key_2]))"
   ]
  },
  {
   "cell_type": "code",
   "execution_count": 131,
   "metadata": {},
   "outputs": [
    {
     "name": "stdout",
     "output_type": "stream",
     "text": [
      "Il y a 80 villes multi-polygones :\n"
     ]
    },
    {
     "data": {
      "text/plain": [
       "['02600 COYOLLES',\n",
       " '02110 SEBONCOURT',\n",
       " '04330 SENEZ',\n",
       " '05600 EYGLIERS',\n",
       " '06400/06150 CANNES',\n",
       " '06430 LA BRIGUE',\n",
       " '07320 SAINT-AGREVE',\n",
       " '07690 SAINT-ANDRE-EN-VIVARAIS',\n",
       " '08700 NOUZONVILLE',\n",
       " '08430 SINGLY',\n",
       " '09240 LA BASTIDE-DE-SEROU',\n",
       " '11160 PEYRIAC-MINERVOIS',\n",
       " '12740 SEBAZAC-CONCOURES',\n",
       " '15700 PLEAUX',\n",
       " '22560 PLEUMEUR-BODOU',\n",
       " '22650 PLOUBALAY',\n",
       " '27230 FOLLEVILLE',\n",
       " '27930 GRAVIGNY',\n",
       " '27400 INCARVILLE',\n",
       " '27100 LE VAUDREUIL',\n",
       " '28170 TREMBLAY-LES-VILLAGES',\n",
       " '29560 ARGOL',\n",
       " '29217 LE CONQUET',\n",
       " '29120 SAINT-JEAN-TROLIMON',\n",
       " '20169 BONIFACIO',\n",
       " '20100 SARTENE',\n",
       " '20214 CALENZANA',\n",
       " '33380 BIGANOS',\n",
       " '35750 IFFENDIC',\n",
       " '35320 TRESBOEUF',\n",
       " '39120 CHENE-BERNARD',\n",
       " '39140 LARNAUD',\n",
       " '39270 ORGELET',\n",
       " '42380 LA CHAPELLE-EN-LAFAYE',\n",
       " '42000/42100/42230 SAINT-ETIENNE',\n",
       " '45270 AUVILLIERS-EN-GATINAIS',\n",
       " '45270 BELLEGARDE',\n",
       " '45300 PANNECIERES',\n",
       " '48300 LANGOGNE',\n",
       " '48300 NAUSSAC',\n",
       " '50170 LE MONT-SAINT-MICHEL',\n",
       " '50200 SAINT-PIERRE-DE-COUTANCES',\n",
       " '51500 SAINT-LEONARD',\n",
       " '53240 ALEXAIN',\n",
       " '54470 THIAUCOURT-REGNIEVILLE',\n",
       " '55130 GONDRECOURT-LE-CHATEAU',\n",
       " '55110 VILOSNES-HARAUMONT',\n",
       " '57360 AMNEVILLE',\n",
       " '57590 AULNOIS-SUR-SEILLE',\n",
       " '57450 BARST',\n",
       " '57420 POURNOY-LA-GRASSE',\n",
       " '57100 THIONVILLE',\n",
       " '59140/59240/59430/59640/59279 DUNKERQUE',\n",
       " '59258 LES RUES-DES-VIGNES',\n",
       " '60117 VAUCIENNES',\n",
       " '63760 BOURG-LASTIC',\n",
       " '65100 LOURDES',\n",
       " '65170 SAINT-LARY-SOULAN',\n",
       " '65170 VIGNEC',\n",
       " '66500 VILLEFRANCHE-DE-CONFLENT',\n",
       " '67800 BISCHHEIM',\n",
       " '67390 SAASENHEIM',\n",
       " '67920 SUNDHOUSE',\n",
       " '68420 EGUISHEIM',\n",
       " '68250 ROUFFACH',\n",
       " '68360 SOULTZ-HAUT-RHIN',\n",
       " '68570 SOULTZMATT',\n",
       " '70100 BROYE-LES-LOUPS-ET-VERFONTAINE',\n",
       " '70190 RIOZ',\n",
       " '71270 BEAUVERNOIS',\n",
       " '71000 MACON',\n",
       " '73260 LA LECHERE',\n",
       " '73300 PONTAMAFREY-MONTPASCAL',\n",
       " '76780 SIGY-EN-BRAY',\n",
       " '80290 POIX-DE-PICARDIE',\n",
       " '86330 MONCONTOUR',\n",
       " '97127 LA DESIRADE',\n",
       " '97115 SAINTE-ROSE',\n",
       " '97300 CAYENNE',\n",
       " '97630 MTSAMBORO']"
      ]
     },
     "execution_count": 131,
     "metadata": {},
     "output_type": "execute_result"
    }
   ],
   "source": [
    "liste_2 = []\n",
    "for i in range(geo.shape[0]):\n",
    "    d = json.loads(geo[\"geo_shape\"].iloc[i])\n",
    "    if len(d['coordinates']) == 2:\n",
    "        liste_2.append(geo['CP Ville'].iloc[i])\n",
    "print(\"Il y a \" + str(len(liste_2)) + \" villes multi-polygones :\")\n",
    "liste_2"
   ]
  },
  {
   "cell_type": "code",
   "execution_count": 176,
   "metadata": {},
   "outputs": [],
   "source": [
    "import shapely\n",
    "from shapely.geometry.polygon import Polygon"
   ]
  },
  {
   "cell_type": "code",
   "execution_count": 199,
   "metadata": {},
   "outputs": [
    {
     "name": "stdout",
     "output_type": "stream",
     "text": [
      "02600 COYOLLES OK\n",
      "05600 EYGLIERS OK\n",
      "09240 LA BASTIDE-DE-SEROU OK\n",
      "22650 PLOUBALAY OK\n",
      "20100 SARTENE OK\n",
      "20214 CALENZANA OK\n",
      "48300 LANGOGNE OK\n",
      "67920 SUNDHOUSE OK\n",
      "68420 EGUISHEIM OK\n",
      "71270 BEAUVERNOIS OK\n"
     ]
    }
   ],
   "source": [
    "for k in range(len(liste_2)):\n",
    "    d = json.loads(geo[geo['CP Ville'] == liste_2[k]].geo_shape.iloc[0])\n",
    "    \n",
    "    try:\n",
    "        pol1 = Polygon(d['coordinates'][0][0])\n",
    "        pol2 = Polygon(d['coordinates'][1][0])\n",
    "    except:\n",
    "        pol1 = Polygon(d['coordinates'][0])\n",
    "        pol2 = Polygon(d['coordinates'][1])\n",
    "\n",
    "    if pol1.contains(pol2)==True:\n",
    "        print(liste_2[k] + \" OK\")\n",
    "    else:\n",
    "        if pol2.contains(pol1)==True:\n",
    "            print(liste_2[k] + \" OK\")"
   ]
  },
  {
   "cell_type": "code",
   "execution_count": null,
   "metadata": {},
   "outputs": [],
   "source": []
  }
 ],
 "metadata": {
  "anaconda-cloud": {},
  "kernelspec": {
   "display_name": "Python 3 (ipykernel)",
   "language": "python",
   "name": "python3"
  },
  "language_info": {
   "codemirror_mode": {
    "name": "ipython",
    "version": 3
   },
   "file_extension": ".py",
   "mimetype": "text/x-python",
   "name": "python",
   "nbconvert_exporter": "python",
   "pygments_lexer": "ipython3",
   "version": "3.8.11"
  }
 },
 "nbformat": 4,
 "nbformat_minor": 4
}
